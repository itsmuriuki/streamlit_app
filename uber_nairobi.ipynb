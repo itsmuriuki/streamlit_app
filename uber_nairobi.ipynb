{
 "cells": [
  {
   "cell_type": "code",
   "execution_count": 1,
   "metadata": {},
   "outputs": [],
   "source": [
    "# import streamlit as st \n",
    "# import numpy as np\n",
    "# import pandas as pd \n",
    "\n"
   ]
  },
  {
   "cell_type": "code",
   "execution_count": 2,
   "metadata": {},
   "outputs": [],
   "source": [
    "# st.title(\"Uber pick_ups in Nairobi\")\n",
    "\n",
    "# # Fetching some data\n",
    "\n",
    "# DATE_COLUMN = \"date/time\"\n",
    "# DATA_URL = ('https://s3-us-west-2.amazonaws.com/'\n",
    "#          'streamlit-demo-data/uber-raw-data-sep14.csv.gz')"
   ]
  },
  {
   "cell_type": "code",
   "execution_count": 6,
   "metadata": {},
   "outputs": [],
   "source": [
    "# #nrows- specifies the number of rows you want to load to the datafram \n",
    "\n",
    "\n",
    "# def load_data(nrows):\n",
    "#     data = pd.read_csv(DATA_URL, nrows=nrows)\n",
    "#     lowercase = lambda x: str(x).lower()\n",
    "#     data.rename(lowercase, axis = column, inplace=True)\n",
    "#     data[DATE_COLUMN] = pd.to_datetime(data[DATE_COLUMN])\n",
    "#     return data"
   ]
  },
  {
   "cell_type": "code",
   "execution_count": null,
   "metadata": {},
   "outputs": [],
   "source": [
    "# #leting the user know the data is loading \n",
    "# data_load_state = st.text(\"data is loading...\")\n",
    "\n",
    "# # loading 10,000 data rows into the dataframe\n",
    "# data = load_data(10000)\n",
    "\n",
    "# # notify the user data was succesfully loaded\n",
    "\n",
    "# data_load_state.test(\"data was successfuly loaded....yaaww!\")"
   ]
  },
  {
   "cell_type": "code",
   "execution_count": null,
   "metadata": {},
   "outputs": [],
   "source": [
    "import streamlit as st \n",
    "import numpy as np\n",
    "import pandas as pd \n",
    "\n",
    "\n",
    "st.title(\"Uber pick_ups in Nairobi\")\n",
    "\n",
    "# Fetching some data\n",
    "\n",
    "DATE_COLUMN = \"date/time\"\n",
    "DATA_URL = ('https://s3-us-west-2.amazonaws.com/'\n",
    "         'streamlit-demo-data/uber-raw-data-sep14.csv.gz')\n",
    "\n",
    "\n",
    "\n",
    "def load_data(nrows):\n",
    "    data = pd.read_csv(DATA_URL, nrows=nrows)\n",
    "    lowercase = lambda x: str(x).lower()\n",
    "    data.rename(lowercase, axis = 'columns', inplace=True)\n",
    "    data[DATE_COLUMN] = pd.to_datetime(data[DATE_COLUMN])\n",
    "\n",
    "#leting the user know the data is loading \n",
    "data_load_state = st.text(\"data is loading...\")\n",
    "\n",
    "# loading 10,000 data rows into the dataframe\n",
    "data = load_data(10000)\n",
    "\n",
    "# notify the user data was succesfully loaded\n",
    "\n",
    "data_load_state.text(\"data was successfuly loaded....yaaww!\")"
   ]
  }
 ],
 "metadata": {
  "kernelspec": {
   "display_name": "Python 3",
   "language": "python",
   "name": "python3"
  },
  "language_info": {
   "codemirror_mode": {
    "name": "ipython",
    "version": 3
   },
   "file_extension": ".py",
   "mimetype": "text/x-python",
   "name": "python",
   "nbconvert_exporter": "python",
   "pygments_lexer": "ipython3",
   "version": "3.7.5"
  }
 },
 "nbformat": 4,
 "nbformat_minor": 2
}
